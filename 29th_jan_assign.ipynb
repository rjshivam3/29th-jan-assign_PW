{
 "cells": [
  {
   "cell_type": "markdown",
   "id": "fe5cde86-7654-4263-8cfb-7e16f15bf39f",
   "metadata": {},
   "source": [
    "Q.1 Ans : Python was developed by Guido van Rossum and first released in 1991."
   ]
  },
  {
   "cell_type": "markdown",
   "id": "062bbe56-2b3e-48a8-a531-86a72d2012b2",
   "metadata": {},
   "source": [
    "Q.2 Ans : Python is a multi-paradigm programming language, which means it supports several programming paradigms. These include Imperative programming, Object-oriented programming (OOP), Functional programming, Procedural programming."
   ]
  },
  {
   "cell_type": "markdown",
   "id": "a212c018-f78f-4224-82e0-a7301c596b91",
   "metadata": {},
   "source": [
    "Q.3 Ans : Yes, Python is case sensitive when it comes to dealing with identifiers"
   ]
  },
  {
   "cell_type": "markdown",
   "id": "17efd9b3-5092-42f6-a7bb-285034d9e70a",
   "metadata": {},
   "source": [
    "Q.4 Ans : The correct file extension for a Python file is .py."
   ]
  },
  {
   "cell_type": "markdown",
   "id": "69723b16-7dbb-4234-8ebd-09d1f042d913",
   "metadata": {},
   "source": [
    "Q.5 Ans : Python code is interpreted, not compiled. An interpreted language is one in which the source code is executed line by line, rather than being translated into machine code and executed directly by the computer's processor. "
   ]
  },
  {
   "cell_type": "markdown",
   "id": "91132c34-d3f9-4438-88fc-e163977ed664",
   "metadata": {},
   "source": [
    "Q.6 Ans : Functions, classes, loops, and conditional statements are few blocks of code used to define in python language."
   ]
  },
  {
   "cell_type": "markdown",
   "id": "fbf8e17b-e40f-46c4-9e4f-201d8f6bf49d",
   "metadata": {},
   "source": [
    "Q.7 Ans : # character is used to give single line comment in python."
   ]
  },
  {
   "cell_type": "code",
   "execution_count": 2,
   "id": "0f3e9317-79fb-40c3-bb2f-2f7a03455156",
   "metadata": {},
   "outputs": [
    {
     "name": "stdout",
     "output_type": "stream",
     "text": [
      "3.10.8 | packaged by conda-forge | (main, Nov 22 2022, 08:26:04) [GCC 10.4.0]\n"
     ]
    }
   ],
   "source": [
    "# Q.8\n",
    "\n",
    "import sys\n",
    "print(sys.version)\n"
   ]
  },
  {
   "cell_type": "markdown",
   "id": "fbc25fa7-02cb-4ea4-bc5a-cb4dfc1b4395",
   "metadata": {},
   "source": [
    "Q.9 Ans : Python supports to make anonymous functions which are not bound to a name(@ runtime). It uses a construct called \"lambda\" .\n"
   ]
  },
  {
   "cell_type": "markdown",
   "id": "68276716-bd61-4d4d-bbc5-b0441dee6854",
   "metadata": {},
   "source": [
    "Q.10 Ans : PIP stands for preferred installer program."
   ]
  },
  {
   "cell_type": "markdown",
   "id": "66e493af-b136-4307-a10e-12ff919392f2",
   "metadata": {},
   "source": [
    "Q.11 Ans : bool(), list(), len(), pow() are few built in functions in python"
   ]
  },
  {
   "cell_type": "markdown",
   "id": "dd6e6578-aee3-464e-8ec7-a31f50726e53",
   "metadata": {},
   "source": [
    "Q.12 Ans : The maximum possible length of an identifier in python is 79 characters"
   ]
  },
  {
   "cell_type": "markdown",
   "id": "b33862e7-5c67-46d6-997c-d5bac24f5c5e",
   "metadata": {},
   "source": [
    "Q.13 Ans : Data sciene, basic game development and web development are benefits of using python"
   ]
  },
  {
   "cell_type": "markdown",
   "id": "2832765e-3153-40e4-9d8e-0978f033e28c",
   "metadata": {},
   "source": [
    "Q.14 Ans : In Python, memory management is handled automatically by the Python interpreter, using a system called reference counting."
   ]
  },
  {
   "cell_type": "markdown",
   "id": "d6fab284-5a37-443f-b91a-a9c7834fd170",
   "metadata": {},
   "source": [
    "Q.15 Ans : In the section entitled User Variables, double-click on the entry that says Path. Another window will pop up showing a list of paths. Click the New button and paste the path to your Python executable there. Once that's inserted, select your newly added path and click the Move Up button until it's at the top"
   ]
  },
  {
   "cell_type": "markdown",
   "id": "9ffafade-d209-470a-aeb4-d1dd19beefab",
   "metadata": {},
   "source": [
    "Q.16 Ans : The indentation in Python is very important. Python uses indentation to indicate a block of code."
   ]
  }
 ],
 "metadata": {
  "kernelspec": {
   "display_name": "Python 3 (ipykernel)",
   "language": "python",
   "name": "python3"
  },
  "language_info": {
   "codemirror_mode": {
    "name": "ipython",
    "version": 3
   },
   "file_extension": ".py",
   "mimetype": "text/x-python",
   "name": "python",
   "nbconvert_exporter": "python",
   "pygments_lexer": "ipython3",
   "version": "3.10.8"
  }
 },
 "nbformat": 4,
 "nbformat_minor": 5
}
